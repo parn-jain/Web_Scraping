{
 "cells": [
  {
   "cell_type": "code",
   "execution_count": 1,
   "id": "ad039002",
   "metadata": {},
   "outputs": [],
   "source": [
    "import requests\n",
    "from bs4 import BeautifulSoup as bs\n",
    "from urllib.request import urlopen as uReq\n",
    "import logging\n",
    "import ssl"
   ]
  },
  {
   "cell_type": "code",
   "execution_count": 2,
   "id": "53d2be3d",
   "metadata": {},
   "outputs": [],
   "source": [
    "context = ssl._create_unverified_context()"
   ]
  },
  {
   "cell_type": "code",
   "execution_count": 3,
   "id": "e0958aa7",
   "metadata": {},
   "outputs": [],
   "source": [
    "flipcart_url = \"https://www.flipkart.com/search?q=\"+\"iphone15\""
   ]
  },
  {
   "cell_type": "code",
   "execution_count": 4,
   "id": "0331a4ef",
   "metadata": {},
   "outputs": [
    {
     "data": {
      "text/plain": [
       "'https://www.flipkart.com/search?q=iphone15'"
      ]
     },
     "execution_count": 4,
     "metadata": {},
     "output_type": "execute_result"
    }
   ],
   "source": [
    "flipcart_url"
   ]
  },
  {
   "cell_type": "code",
   "execution_count": 5,
   "id": "64227acc",
   "metadata": {},
   "outputs": [],
   "source": [
    "urlclient = uReq(flipcart_url,context = context)"
   ]
  },
  {
   "cell_type": "code",
   "execution_count": 6,
   "id": "b2aee9c0",
   "metadata": {},
   "outputs": [],
   "source": [
    "flipcart_page = urlclient.read()"
   ]
  },
  {
   "cell_type": "code",
   "execution_count": 7,
   "id": "a791f40e",
   "metadata": {},
   "outputs": [],
   "source": [
    "flipcart_html = bs(flipcart_page,'html.parser')"
   ]
  },
  {
   "cell_type": "code",
   "execution_count": 8,
   "id": "17c147da",
   "metadata": {},
   "outputs": [],
   "source": [
    "bigbox = flipcart_html.findAll(\"div\",{\"class\":\"_1AtVbE col-12-12\"})"
   ]
  },
  {
   "cell_type": "code",
   "execution_count": 9,
   "id": "72660bbf",
   "metadata": {},
   "outputs": [],
   "source": [
    "del bigbox[0:2]\n",
    "del bigbox[24:]"
   ]
  },
  {
   "cell_type": "code",
   "execution_count": 60,
   "id": "3bb66b12",
   "metadata": {},
   "outputs": [],
   "source": [
    "productlink = \"https://www.flipkart.com\"+bigbox[3].div.div.div.a['href']"
   ]
  },
  {
   "cell_type": "code",
   "execution_count": 62,
   "id": "2a5fc75e",
   "metadata": {},
   "outputs": [
    {
     "data": {
      "text/plain": [
       "'https://www.flipkart.com/apple-iphone-15-plus-blue-128-gb/p/itm4022c14383050?pid=MOBGTAGPE4F2HAW7&lid=LSTMOBGTAGPE4F2HAW7NDYSPY&marketplace=FLIPKART&q=iphone15&store=tyy%2F4io&srno=s_1_4&otracker=search&fm=organic&iid=1dbb95ce-a8e6-432f-b73b-3890fdc75989.MOBGTAGPE4F2HAW7.SEARCH&ppt=None&ppn=None&ssid=qp5vhi2vq80000001708544201118&qH=1827ac0d826493c5'"
      ]
     },
     "execution_count": 62,
     "metadata": {},
     "output_type": "execute_result"
    }
   ],
   "source": [
    "productlink"
   ]
  },
  {
   "cell_type": "code",
   "execution_count": 11,
   "id": "082bde18",
   "metadata": {},
   "outputs": [],
   "source": [
    "product_req = requests.get(productlink)"
   ]
  },
  {
   "cell_type": "code",
   "execution_count": 12,
   "id": "7e0e74d5",
   "metadata": {},
   "outputs": [],
   "source": [
    "product_html = bs(product_req.text,'html.parser')"
   ]
  },
  {
   "cell_type": "code",
   "execution_count": 31,
   "id": "6b478445",
   "metadata": {},
   "outputs": [],
   "source": [
    "comment_box = product_html.findAll(\"div\",{\"class\":\"row _3n8db9\"})"
   ]
  },
  {
   "cell_type": "code",
   "execution_count": 32,
   "id": "06697e5c",
   "metadata": {},
   "outputs": [
    {
     "data": {
      "text/plain": [
       "10"
      ]
     },
     "execution_count": 32,
     "metadata": {},
     "output_type": "execute_result"
    }
   ],
   "source": [
    "len(comment_box)"
   ]
  },
  {
   "cell_type": "code",
   "execution_count": 46,
   "id": "4d43648f",
   "metadata": {},
   "outputs": [
    {
     "name": "stdout",
     "output_type": "stream",
     "text": [
      "Sagar Behera\n",
      "Anshul Duhan\n",
      "Flipkart Customer\n",
      "madhusudhana  R\n",
      "Jackson .\n",
      "Bibhu Bisoi\n",
      "Anirudhya  Ghosh\n",
      "Akhtar Raza\n",
      "Avinan Vaidya\n",
      "Flipkart Customer\n"
     ]
    }
   ],
   "source": [
    "for i in comment_box:\n",
    "    print(i.div.findAll('p',{\"class\":\"_2sc7ZR _2V5EHH\"})[0].text)"
   ]
  },
  {
   "cell_type": "code",
   "execution_count": 15,
   "id": "35b254d1",
   "metadata": {},
   "outputs": [
    {
     "name": "stdout",
     "output_type": "stream",
     "text": [
      "https://www.flipkart.com/apple-iphone-15-blue-128-gb/p/itmbf14ef54f645d?pid=MOBGTAGPAQNVFZZY&lid=LSTMOBGTAGPAQNVFZZYO7HQ2L&marketplace=FLIPKART&q=iphone15&store=tyy%2F4io&spotlightTagId=BestsellerId_tyy%2F4io&srno=s_1_1&otracker=search&fm=organic&iid=1dbb95ce-a8e6-432f-b73b-3890fdc75989.MOBGTAGPAQNVFZZY.SEARCH&ppt=None&ppn=None&ssid=qp5vhi2vq80000001708544201118&qH=1827ac0d826493c5\n",
      " \n",
      "https://www.flipkart.com/apple-iphone-15-green-128-gb/p/itm235cd318bde73?pid=MOBGTAGPYYWZRUJX&lid=LSTMOBGTAGPYYWZRUJXXIP6YM&marketplace=FLIPKART&q=iphone15&store=tyy%2F4io&srno=s_1_2&otracker=search&fm=organic&iid=1dbb95ce-a8e6-432f-b73b-3890fdc75989.MOBGTAGPYYWZRUJX.SEARCH&ppt=None&ppn=None&ssid=qp5vhi2vq80000001708544201118&qH=1827ac0d826493c5\n",
      " \n",
      "https://www.flipkart.com/apple-iphone-15-pink-128-gb/p/itm7579ed94ca647?pid=MOBGTAGPNMZA5PU5&lid=LSTMOBGTAGPNMZA5PU5O32WJC&marketplace=FLIPKART&q=iphone15&store=tyy%2F4io&srno=s_1_3&otracker=search&fm=organic&iid=1dbb95ce-a8e6-432f-b73b-3890fdc75989.MOBGTAGPNMZA5PU5.SEARCH&ppt=None&ppn=None&ssid=qp5vhi2vq80000001708544201118&qH=1827ac0d826493c5\n",
      " \n",
      "https://www.flipkart.com/apple-iphone-15-plus-blue-128-gb/p/itm4022c14383050?pid=MOBGTAGPE4F2HAW7&lid=LSTMOBGTAGPE4F2HAW7NDYSPY&marketplace=FLIPKART&q=iphone15&store=tyy%2F4io&srno=s_1_4&otracker=search&fm=organic&iid=1dbb95ce-a8e6-432f-b73b-3890fdc75989.MOBGTAGPE4F2HAW7.SEARCH&ppt=None&ppn=None&ssid=qp5vhi2vq80000001708544201118&qH=1827ac0d826493c5\n",
      " \n",
      "https://www.flipkart.com/apple-iphone-15-plus-black-128-gb/p/itme3a53984760fb?pid=MOBGTAGPNRQA7CS3&lid=LSTMOBGTAGPNRQA7CS3L7XK7L&marketplace=FLIPKART&q=iphone15&store=tyy%2F4io&srno=s_1_5&otracker=search&fm=organic&iid=1dbb95ce-a8e6-432f-b73b-3890fdc75989.MOBGTAGPNRQA7CS3.SEARCH&ppt=None&ppn=None&ssid=qp5vhi2vq80000001708544201118&qH=1827ac0d826493c5\n",
      " \n",
      "https://www.flipkart.com/apple-iphone-15-black-256-gb/p/itm6f0727e3e3b52?pid=MOBGTAGPSMHFKHT5&lid=LSTMOBGTAGPSMHFKHT5QSQH4U&marketplace=FLIPKART&q=iphone15&store=tyy%2F4io&srno=s_1_6&otracker=search&fm=organic&iid=1dbb95ce-a8e6-432f-b73b-3890fdc75989.MOBGTAGPSMHFKHT5.SEARCH&ppt=None&ppn=None&ssid=qp5vhi2vq80000001708544201118&qH=1827ac0d826493c5\n",
      " \n",
      "https://www.flipkart.com/apple-iphone-15-yellow-128-gb/p/itm825e4ad0b80ca?pid=MOBGTAGPDTKHHHZU&lid=LSTMOBGTAGPDTKHHHZUTQZRMS&marketplace=FLIPKART&q=iphone15&store=tyy%2F4io&srno=s_1_7&otracker=search&fm=organic&iid=1dbb95ce-a8e6-432f-b73b-3890fdc75989.MOBGTAGPDTKHHHZU.SEARCH&ppt=None&ppn=None&ssid=qp5vhi2vq80000001708544201118&qH=1827ac0d826493c5\n",
      " \n",
      "https://www.flipkart.com/apple-iphone-15-pro-max-white-titanium-256-gb/p/itm35b922bbbefc9?pid=MOBGTAGQ8DDHVKZM&lid=LSTMOBGTAGQ8DDHVKZMSRYDKK&marketplace=FLIPKART&q=iphone15&store=tyy%2F4io&srno=s_1_8&otracker=search&fm=organic&iid=1dbb95ce-a8e6-432f-b73b-3890fdc75989.MOBGTAGQ8DDHVKZM.SEARCH&ppt=None&ppn=None&ssid=qp5vhi2vq80000001708544201118&qH=1827ac0d826493c5\n",
      " \n",
      "https://www.flipkart.com/apple-iphone-15-pro-max-natural-titanium-256-gb/p/itm9d44960698192?pid=MOBGTAGQH6K7YMJU&lid=LSTMOBGTAGQH6K7YMJU74VM64&marketplace=FLIPKART&q=iphone15&store=tyy%2F4io&srno=s_1_9&otracker=search&fm=organic&iid=1dbb95ce-a8e6-432f-b73b-3890fdc75989.MOBGTAGQH6K7YMJU.SEARCH&ppt=None&ppn=None&ssid=qp5vhi2vq80000001708544201118&qH=1827ac0d826493c5\n",
      " \n",
      "https://www.flipkart.com/apple-iphone-15-pro-max-blue-titanium-256-gb/p/itm4a0093df4a3d7?pid=MOBGTAGP4SVJGGH6&lid=LSTMOBGTAGP4SVJGGH6BVMLK2&marketplace=FLIPKART&q=iphone15&store=tyy%2F4io&srno=s_1_10&otracker=search&fm=organic&iid=1dbb95ce-a8e6-432f-b73b-3890fdc75989.MOBGTAGP4SVJGGH6.SEARCH&ppt=None&ppn=None&ssid=qp5vhi2vq80000001708544201118&qH=1827ac0d826493c5\n",
      " \n",
      "https://www.flipkart.com/apple-iphone-15-plus-green-128-gb/p/itmaa50abb5e6c3b?pid=MOBGTAGPJVGHTAYC&lid=LSTMOBGTAGPJVGHTAYCTGIMN2&marketplace=FLIPKART&q=iphone15&store=tyy%2F4io&srno=s_1_11&otracker=search&fm=organic&iid=1dbb95ce-a8e6-432f-b73b-3890fdc75989.MOBGTAGPJVGHTAYC.SEARCH&ppt=None&ppn=None&ssid=qp5vhi2vq80000001708544201118&qH=1827ac0d826493c5\n",
      " \n",
      "https://www.flipkart.com/apple-iphone-15-pro-natural-titanium-128-gb/p/itm7ffb1e9990edd?pid=MOBGTAGP38MFPN6Q&lid=LSTMOBGTAGP38MFPN6QBVS1LF&marketplace=FLIPKART&q=iphone15&store=tyy%2F4io&srno=s_1_12&otracker=search&fm=organic&iid=1dbb95ce-a8e6-432f-b73b-3890fdc75989.MOBGTAGP38MFPN6Q.SEARCH&ppt=None&ppn=None&ssid=qp5vhi2vq80000001708544201118&qH=1827ac0d826493c5\n",
      " \n",
      "https://www.flipkart.com/apple-iphone-15-plus-pink-128-gb/p/itmecb6209a78172?pid=MOBGTAGPXUWEXXWY&lid=LSTMOBGTAGPXUWEXXWYKVXCUT&marketplace=FLIPKART&q=iphone15&store=tyy%2F4io&srno=s_1_13&otracker=search&fm=organic&iid=1dbb95ce-a8e6-432f-b73b-3890fdc75989.MOBGTAGPXUWEXXWY.SEARCH&ppt=None&ppn=None&ssid=qp5vhi2vq80000001708544201118&qH=1827ac0d826493c5\n",
      " \n",
      "https://www.flipkart.com/apple-iphone-15-blue-256-gb/p/itm986f66c53cae4?pid=MOBGTAGPNEZZY2YR&lid=LSTMOBGTAGPNEZZY2YRE1FCIG&marketplace=FLIPKART&q=iphone15&store=tyy%2F4io&srno=s_1_14&otracker=search&fm=organic&iid=1dbb95ce-a8e6-432f-b73b-3890fdc75989.MOBGTAGPNEZZY2YR.SEARCH&ppt=None&ppn=None&ssid=qp5vhi2vq80000001708544201118&qH=1827ac0d826493c5\n",
      " \n",
      "https://www.flipkart.com/apple-iphone-15-pro-white-titanium-128-gb/p/itm786eaa7ec159e?pid=MOBGTAGPFGSCNHJF&lid=LSTMOBGTAGPFGSCNHJFXSQFMF&marketplace=FLIPKART&q=iphone15&store=tyy%2F4io&srno=s_1_15&otracker=search&fm=organic&iid=1dbb95ce-a8e6-432f-b73b-3890fdc75989.MOBGTAGPFGSCNHJF.SEARCH&ppt=None&ppn=None&ssid=qp5vhi2vq80000001708544201118&qH=1827ac0d826493c5\n",
      " \n",
      "https://www.flipkart.com/apple-iphone-15-pro-white-titanium-256-gb/p/itmcc2751226d99c?pid=MOBGTAGPGZEAKWWF&lid=LSTMOBGTAGPGZEAKWWF3IURJ2&marketplace=FLIPKART&q=iphone15&store=tyy%2F4io&srno=s_1_16&otracker=search&fm=organic&iid=1dbb95ce-a8e6-432f-b73b-3890fdc75989.MOBGTAGPGZEAKWWF.SEARCH&ppt=None&ppn=None&ssid=qp5vhi2vq80000001708544201118&qH=1827ac0d826493c5\n",
      " \n",
      "https://www.flipkart.com/apple-iphone-15-pro-natural-titanium-256-gb/p/itmc1a67b071a3ec?pid=MOBGTAGPGRZFCMMD&lid=LSTMOBGTAGPGRZFCMMDORZJPA&marketplace=FLIPKART&q=iphone15&store=tyy%2F4io&srno=s_1_17&otracker=search&fm=organic&iid=1dbb95ce-a8e6-432f-b73b-3890fdc75989.MOBGTAGPGRZFCMMD.SEARCH&ppt=None&ppn=None&ssid=qp5vhi2vq80000001708544201118&qH=1827ac0d826493c5\n",
      " \n",
      "https://www.flipkart.com/apple-iphone-15-pink-256-gb/p/itmd205d11e1959e?pid=MOBGTAGPFDXBQ9BH&lid=LSTMOBGTAGPFDXBQ9BH7PBY4G&marketplace=FLIPKART&q=iphone15&store=tyy%2F4io&srno=s_1_18&otracker=search&fm=organic&iid=1dbb95ce-a8e6-432f-b73b-3890fdc75989.MOBGTAGPFDXBQ9BH.SEARCH&ppt=None&ppn=None&ssid=qp5vhi2vq80000001708544201118&qH=1827ac0d826493c5\n",
      " \n",
      "https://www.flipkart.com/apple-iphone-15-pro-max-black-titanium-256-gb/p/itmd170cfc1dec9e?pid=MOBGTAGQGJWQFEFX&lid=LSTMOBGTAGQGJWQFEFXBVNGR1&marketplace=FLIPKART&q=iphone15&store=tyy%2F4io&srno=s_1_19&otracker=search&fm=organic&iid=1dbb95ce-a8e6-432f-b73b-3890fdc75989.MOBGTAGQGJWQFEFX.SEARCH&ppt=None&ppn=None&ssid=qp5vhi2vq80000001708544201118&qH=1827ac0d826493c5\n",
      " \n",
      "https://www.flipkart.com/apple-iphone-15-pro-black-titanium-128-gb/p/itm96f61fdd7e604?pid=MOBGTAGPJTMGZC9U&lid=LSTMOBGTAGPJTMGZC9U35JOZB&marketplace=FLIPKART&q=iphone15&store=tyy%2F4io&srno=s_1_20&otracker=search&fm=organic&iid=1dbb95ce-a8e6-432f-b73b-3890fdc75989.MOBGTAGPJTMGZC9U.SEARCH&ppt=None&ppn=None&ssid=qp5vhi2vq80000001708544201118&qH=1827ac0d826493c5\n",
      " \n",
      "https://www.flipkart.com/apple-iphone-15-black-512-gb/p/itm232a6b488abe2?pid=MOBGTAGPEXNGM7BM&lid=LSTMOBGTAGPEXNGM7BMOE3LR2&marketplace=FLIPKART&q=iphone15&store=tyy%2F4io&srno=s_1_21&otracker=search&fm=organic&iid=1dbb95ce-a8e6-432f-b73b-3890fdc75989.MOBGTAGPEXNGM7BM.SEARCH&ppt=None&ppn=None&ssid=qp5vhi2vq80000001708544201118&qH=1827ac0d826493c5\n",
      " \n",
      "https://www.flipkart.com/apple-iphone-15-pro-black-titanium-512-gb/p/itm6cec19f8ee1c3?pid=MOBGTAGPKHHNRHXH&lid=LSTMOBGTAGPKHHNRHXHIC2MMD&marketplace=FLIPKART&q=iphone15&store=tyy%2F4io&srno=s_1_22&otracker=search&fm=organic&iid=1dbb95ce-a8e6-432f-b73b-3890fdc75989.MOBGTAGPKHHNRHXH.SEARCH&ppt=None&ppn=None&ssid=qp5vhi2vq80000001708544201118&qH=1827ac0d826493c5\n",
      " \n",
      "https://www.flipkart.com/apple-iphone-15-pro-black-titanium-256-gb/p/itm2731066ffb3cc?pid=MOBGTAGPHKDJXZJA&lid=LSTMOBGTAGPHKDJXZJAZIBNQ5&marketplace=FLIPKART&q=iphone15&store=tyy%2F4io&srno=s_1_23&otracker=search&fm=organic&iid=1dbb95ce-a8e6-432f-b73b-3890fdc75989.MOBGTAGPHKDJXZJA.SEARCH&ppt=None&ppn=None&ssid=qp5vhi2vq80000001708544201118&qH=1827ac0d826493c5\n",
      " \n",
      "https://www.flipkart.com/apple-iphone-15-pro-blue-titanium-256-gb/p/itm768301f4e20c7?pid=MOBGTAGPYQYFGVEY&lid=LSTMOBGTAGPYQYFGVEYHDYO2F&marketplace=FLIPKART&q=iphone15&store=tyy%2F4io&srno=s_1_24&otracker=search&fm=organic&iid=1dbb95ce-a8e6-432f-b73b-3890fdc75989.MOBGTAGPYQYFGVEY.SEARCH&ppt=None&ppn=None&ssid=qp5vhi2vq80000001708544201118&qH=1827ac0d826493c5\n",
      " \n"
     ]
    }
   ],
   "source": [
    "k = 0\n",
    "for i in bigbox:\n",
    "    print(\"https://www.flipkart.com\" + i.div.div.div.a['href'])\n",
    "    print(\" \")\n",
    "    k= k+1"
   ]
  },
  {
   "cell_type": "code",
   "execution_count": 16,
   "id": "c51c36f7",
   "metadata": {},
   "outputs": [
    {
     "name": "stdout",
     "output_type": "stream",
     "text": [
      "24\n"
     ]
    }
   ],
   "source": [
    "print(k)"
   ]
  },
  {
   "cell_type": "code",
   "execution_count": 17,
   "id": "141faccb",
   "metadata": {},
   "outputs": [
    {
     "data": {
      "text/plain": [
       "24"
      ]
     },
     "execution_count": 17,
     "metadata": {},
     "output_type": "execute_result"
    }
   ],
   "source": [
    "len(bigbox)"
   ]
  },
  {
   "cell_type": "code",
   "execution_count": null,
   "id": "15943d72",
   "metadata": {},
   "outputs": [],
   "source": []
  }
 ],
 "metadata": {
  "kernelspec": {
   "display_name": "Python 3 (ipykernel)",
   "language": "python",
   "name": "python3"
  },
  "language_info": {
   "codemirror_mode": {
    "name": "ipython",
    "version": 3
   },
   "file_extension": ".py",
   "mimetype": "text/x-python",
   "name": "python",
   "nbconvert_exporter": "python",
   "pygments_lexer": "ipython3",
   "version": "3.10.5"
  }
 },
 "nbformat": 4,
 "nbformat_minor": 5
}
